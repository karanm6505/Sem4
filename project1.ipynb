{
 "cells": [
  {
   "cell_type": "markdown",
   "metadata": {},
   "source": [
    "1. Determining length of a matrix/vector."
   ]
  },
  {
   "cell_type": "code",
   "execution_count": 17,
   "metadata": {},
   "outputs": [
    {
     "data": {
      "text/plain": [
       "3"
      ]
     },
     "execution_count": 17,
     "metadata": {},
     "output_type": "execute_result"
    }
   ],
   "source": [
    "import numpy as np\n",
    "A = np.matrix([[1,2],[3,4],[5,6]])\n",
    "len(A)"
   ]
  },
  {
   "cell_type": "markdown",
   "metadata": {},
   "source": [
    "2. Add B as the fourth row of A to create C."
   ]
  },
  {
   "cell_type": "code",
   "execution_count": 5,
   "metadata": {},
   "outputs": [
    {
     "data": {
      "text/plain": [
       "array([[ 1,  2,  3],\n",
       "       [ 4,  5,  6],\n",
       "       [ 7,  8,  9],\n",
       "       [10, 11, 12]])"
      ]
     },
     "execution_count": 5,
     "metadata": {},
     "output_type": "execute_result"
    }
   ],
   "source": [
    "A = np.array([[1, 2, 3], \n",
    "              [4, 5, 6], \n",
    "              [7, 8, 9]])\n",
    "\n",
    "B = np.array([10, 11, 12])\n",
    "\n",
    "C = np.vstack((A, B))\n",
    "C"
   ]
  },
  {
   "cell_type": "markdown",
   "metadata": {},
   "source": [
    "3. Create D from rows 2, 3, 4 and columns 3, 4 of C."
   ]
  },
  {
   "cell_type": "code",
   "execution_count": 6,
   "metadata": {},
   "outputs": [
    {
     "data": {
      "text/plain": [
       "array([[ 6],\n",
       "       [ 9],\n",
       "       [12]])"
      ]
     },
     "execution_count": 6,
     "metadata": {},
     "output_type": "execute_result"
    }
   ],
   "source": [
    "D = C[1:4, 2:4]\n",
    "\n",
    "D"
   ]
  },
  {
   "cell_type": "markdown",
   "metadata": {},
   "source": [
    "4. Transpose D to create E."
   ]
  },
  {
   "cell_type": "code",
   "execution_count": 7,
   "metadata": {},
   "outputs": [
    {
     "data": {
      "text/plain": [
       "array([[ 6,  9, 12]])"
      ]
     },
     "execution_count": 7,
     "metadata": {},
     "output_type": "execute_result"
    }
   ],
   "source": [
    "E = D.T\n",
    "\n",
    "E"
   ]
  },
  {
   "cell_type": "markdown",
   "metadata": {},
   "source": [
    "5. Check the size of E."
   ]
  },
  {
   "cell_type": "code",
   "execution_count": 8,
   "metadata": {},
   "outputs": [
    {
     "data": {
      "text/plain": [
       "(1, 3)"
      ]
     },
     "execution_count": 8,
     "metadata": {},
     "output_type": "execute_result"
    }
   ],
   "source": [
    "E.shape"
   ]
  },
  {
   "cell_type": "markdown",
   "metadata": {},
   "source": [
    "6. Create equally spaced vectors."
   ]
  },
  {
   "cell_type": "code",
   "execution_count": 9,
   "metadata": {},
   "outputs": [
    {
     "data": {
      "text/plain": [
       "(array([ 1.  ,  3.25,  5.5 ,  7.75, 10.  ]),\n",
       " array([0.        , 0.33333333, 0.66666667, 1.        ]))"
      ]
     },
     "execution_count": 9,
     "metadata": {},
     "output_type": "execute_result"
    }
   ],
   "source": [
    "v1 = np.linspace(1, 10, 5)\n",
    "v2 = np.linspace(0, 1, 4)\n",
    "\n",
    "v1, v2"
   ]
  },
  {
   "cell_type": "markdown",
   "metadata": {},
   "source": [
    "7. Find the max and min in each column of A."
   ]
  },
  {
   "cell_type": "code",
   "execution_count": 10,
   "metadata": {},
   "outputs": [
    {
     "data": {
      "text/plain": [
       "(array([7, 8, 9]), array([1, 2, 3]))"
      ]
     },
     "execution_count": 10,
     "metadata": {},
     "output_type": "execute_result"
    }
   ],
   "source": [
    "max_cols = np.max(A, axis=0)\n",
    "min_cols = np.min(A, axis=0)\n",
    "\n",
    "max_cols, min_cols"
   ]
  },
  {
   "cell_type": "markdown",
   "metadata": {},
   "source": [
    "8. Find the max and min in each row of A."
   ]
  },
  {
   "cell_type": "code",
   "execution_count": 11,
   "metadata": {},
   "outputs": [
    {
     "data": {
      "text/plain": [
       "(array([3, 6, 9]), array([1, 4, 7]))"
      ]
     },
     "execution_count": 11,
     "metadata": {},
     "output_type": "execute_result"
    }
   ],
   "source": [
    "max_rows = np.max(A, axis=1)\n",
    "min_rows = np.min(A, axis=1)\n",
    "\n",
    "max_rows, min_rows"
   ]
  },
  {
   "cell_type": "markdown",
   "metadata": {},
   "source": [
    "9. Calculate mean and sum in each column and row of A."
   ]
  },
  {
   "cell_type": "code",
   "execution_count": 12,
   "metadata": {},
   "outputs": [
    {
     "data": {
      "text/plain": [
       "(array([4., 5., 6.]),\n",
       " array([12, 15, 18]),\n",
       " array([2., 5., 8.]),\n",
       " array([ 6, 15, 24]))"
      ]
     },
     "execution_count": 12,
     "metadata": {},
     "output_type": "execute_result"
    }
   ],
   "source": [
    "mean_cols = np.mean(A, axis=0)\n",
    "sum_cols = np.sum(A, axis=0)\n",
    "\n",
    "mean_rows = np.mean(A, axis=1)\n",
    "sum_rows = np.sum(A, axis=1)\n",
    "\n",
    "mean_cols, sum_cols, mean_rows, sum_rows\n"
   ]
  },
  {
   "cell_type": "markdown",
   "metadata": {},
   "source": [
    "10. Create random matrices F and G."
   ]
  },
  {
   "cell_type": "code",
   "execution_count": 15,
   "metadata": {},
   "outputs": [
    {
     "data": {
      "text/plain": [
       "(array([[7.41635780e-01, 2.70070892e-01, 2.28374962e-01],\n",
       "        [6.06942719e-01, 3.98980292e-05, 9.33707975e-01],\n",
       "        [2.93827097e-01, 7.30691945e-01, 1.50772001e-01]]),\n",
       " array([[0.15762159, 0.14392759, 0.0893236 ],\n",
       "        [0.88615927, 0.844756  , 0.28868451],\n",
       "        [0.80215289, 0.38678441, 0.30216254]]))"
      ]
     },
     "execution_count": 15,
     "metadata": {},
     "output_type": "execute_result"
    }
   ],
   "source": [
    "F = np.random.rand(3, 3)\n",
    "G = np.random.rand(3, 3)\n",
    "\n",
    "F,G"
   ]
  },
  {
   "cell_type": "markdown",
   "metadata": {},
   "source": [
    "11. Perform scalar multiplication, addition, subtraction, and element-wise\n",
    "multiplication on F and G."
   ]
  },
  {
   "cell_type": "code",
   "execution_count": 29,
   "metadata": {},
   "outputs": [
    {
     "data": {
      "text/plain": [
       "(array([[0.38915506, 1.75586841, 0.75590338],\n",
       "        [0.21347871, 1.91858712, 1.82765692],\n",
       "        [0.13263369, 1.35534342, 0.62194282]]),\n",
       " array([[0.20671288, 0.99780995, 0.70468916],\n",
       "        [1.10232314, 1.21260796, 1.69046779],\n",
       "        [0.22179209, 0.89651595, 0.56042781]]),\n",
       " array([[ 0.18244218,  0.75805846,  0.05121421],\n",
       "        [-0.88884442,  0.70597916,  0.13718913],\n",
       "        [-0.0891584 ,  0.45882748,  0.06151501]]),\n",
       " array([[0.00236127, 0.10524302, 0.12349098],\n",
       "        [0.10626797, 0.24300288, 0.70971512],\n",
       "        [0.01031063, 0.14830455, 0.07757381]]))"
      ]
     },
     "execution_count": 29,
     "metadata": {},
     "output_type": "execute_result"
    }
   ],
   "source": [
    "scalar = 2\n",
    "\n",
    "scalar_mult = scalar * F\n",
    "addition = F + G\n",
    "subtraction = F - G\n",
    "elementwise_mult = F * G\n",
    "\n",
    "scalar_mult, addition, subtraction, elementwise_mult\n"
   ]
  },
  {
   "cell_type": "markdown",
   "metadata": {},
   "source": [
    "12. Check the size of F and A, then perform matrix multiplication if\n",
    "dimensions are compatible."
   ]
  },
  {
   "cell_type": "code",
   "execution_count": 36,
   "metadata": {},
   "outputs": [
    {
     "name": "stdout",
     "output_type": "stream",
     "text": [
      "[[ 6.35197616  7.80243958  9.252903  ]\n",
      " [10.34071282 12.3205742  14.30043557]\n",
      " [ 4.95380357  6.00876354  7.0637235 ]]\n"
     ]
    }
   ],
   "source": [
    "F.shape, A.shape\n",
    "\n",
    "if F.shape[1] == A.shape[0]:\n",
    "    matrix_mult = np.dot(F, A)\n",
    "    print(matrix_mult)\n",
    "else:\n",
    "    print(\"Matrix multiplication not possible due to incompatible dimensions\")"
   ]
  },
  {
   "cell_type": "markdown",
   "metadata": {},
   "source": [
    "### Task 13: Generate Special Matrices\n",
    "\n",
    "1. Create a **3×3 identity matrix**.\n",
    "2. Create a **5×3 zero matrix** and a **4×2 one matrix**.\n",
    "3. Create a **diagonal matrix** `S` with diagonal elements `[1, 2, 7]`.\n",
    "4. Extract the **diagonal elements** from a randomly generated **6×6 matrix**.\n",
    "5. Create a **sparse diagonal matrix** and convert it into a **dense matrix**.\n"
   ]
  },
  {
   "cell_type": "code",
   "execution_count": 40,
   "metadata": {},
   "outputs": [
    {
     "data": {
      "text/plain": [
       "(array([[1., 0., 0.],\n",
       "        [0., 1., 0.],\n",
       "        [0., 0., 1.]]),\n",
       " array([[0., 0., 0.],\n",
       "        [0., 0., 0.],\n",
       "        [0., 0., 0.],\n",
       "        [0., 0., 0.],\n",
       "        [0., 0., 0.]]),\n",
       " array([[1., 1.],\n",
       "        [1., 1.],\n",
       "        [1., 1.],\n",
       "        [1., 1.]]),\n",
       " array([[1, 0, 0],\n",
       "        [0, 2, 0],\n",
       "        [0, 0, 7]]),\n",
       " array([0.90101472, 0.98450454, 0.98242633, 0.38624709, 0.18779002,\n",
       "        0.12543064]),\n",
       " array([[1., 0., 0.],\n",
       "        [0., 2., 0.],\n",
       "        [0., 0., 7.]]))"
      ]
     },
     "execution_count": 40,
     "metadata": {},
     "output_type": "execute_result"
    }
   ],
   "source": [
    "from scipy.sparse import diags\n",
    "\n",
    "I = np.eye(3)\n",
    "Z = np.zeros((5, 3))\n",
    "O = np.ones((4, 2))\n",
    "S = np.diag([1, 2, 7])\n",
    "random_matrix = np.random.rand(6, 6)\n",
    "diag_elements = np.diag(random_matrix)\n",
    "sparse_diag = diags([[1, 2, 7]], [0], shape=(3, 3)).toarray()\n",
    "\n",
    "I, Z, O, S, diag_elements, sparse_diag"
   ]
  }
 ],
 "metadata": {
  "kernelspec": {
   "display_name": "Python 3",
   "language": "python",
   "name": "python3"
  },
  "language_info": {
   "codemirror_mode": {
    "name": "ipython",
    "version": 3
   },
   "file_extension": ".py",
   "mimetype": "text/x-python",
   "name": "python",
   "nbconvert_exporter": "python",
   "pygments_lexer": "ipython3",
   "version": "3.11.5"
  }
 },
 "nbformat": 4,
 "nbformat_minor": 2
}
