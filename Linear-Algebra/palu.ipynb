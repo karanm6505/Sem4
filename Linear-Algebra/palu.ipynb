{
 "cells": [
  {
   "cell_type": "code",
   "execution_count": 2,
   "metadata": {},
   "outputs": [
    {
     "name": "stdout",
     "output_type": "stream",
     "text": [
      "P =\n",
      "1.0\n",
      "\n",
      "L =\n",
      "1.0\n",
      "\n",
      "U =\n",
      "2.0 -1.0 -2.0\n"
     ]
    }
   ],
   "source": [
    "import scipy.linalg\n",
    "import numpy as np\n",
    "\n",
    "def plu_factorization(A):\n",
    "    \"\"\"\n",
    "    Perform PLU factorization on the given square matrix A.\n",
    "\n",
    "    Args:\n",
    "        A (numpy.ndarray): A square matrix of size n x n.\n",
    "\n",
    "    Returns:\n",
    "        tuple: A tuple (P, L, U) where P is the permutation matrix, L is the lower triangular matrix and U is the upper triangular matrix.\n",
    "    \"\"\"\n",
    "\n",
    "    #Implement your code here\n",
    "    P, L, U = scipy.linalg.lu(A)\n",
    "\n",
    "\n",
    "    return P, L, U\n",
    "\n",
    "# Boilerplate code to handle input and output\n",
    "def main():\n",
    "    A = []\n",
    "    while True:\n",
    "        try:\n",
    "            row = input().strip()  # Read a line of input\n",
    "            if row:\n",
    "                A.append(list(map(float, row.split())))\n",
    "            else:\n",
    "                break\n",
    "        except EOFError:\n",
    "            break\n",
    "    A=np.array(A)\n",
    "    P, L, U = plu_factorization(A)\n",
    "\n",
    "    # Print results\n",
    "    print(\"P =\")\n",
    "    for row in P:\n",
    "        print(\" \".join(f\"{x:.1f}\" for x in row))\n",
    "    print(\"\\nL =\")\n",
    "    for row in L:\n",
    "        print(\" \".join(f\"{x:.1f}\" for x in row))\n",
    "    print(\"\\nU =\")\n",
    "    for row in U:\n",
    "        print(\" \".join(f\"{x:.1f}\" for x in row))\n",
    "\n",
    "\n",
    "if __name__ == \"__main__\":\n",
    "    main()"
   ]
  },
  {
   "cell_type": "code",
   "execution_count": null,
   "metadata": {},
   "outputs": [],
   "source": []
  },
  {
   "cell_type": "code",
   "execution_count": null,
   "metadata": {},
   "outputs": [],
   "source": []
  }
 ],
 "metadata": {
  "kernelspec": {
   "display_name": "Python 3",
   "language": "python",
   "name": "python3"
  },
  "language_info": {
   "codemirror_mode": {
    "name": "ipython",
    "version": 3
   },
   "file_extension": ".py",
   "mimetype": "text/x-python",
   "name": "python",
   "nbconvert_exporter": "python",
   "pygments_lexer": "ipython3",
   "version": "3.11.5"
  }
 },
 "nbformat": 4,
 "nbformat_minor": 2
}
