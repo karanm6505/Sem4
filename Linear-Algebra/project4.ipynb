{
 "cells": [
  {
   "cell_type": "code",
   "execution_count": 4,
   "metadata": {},
   "outputs": [],
   "source": [
    "import numpy as np\n",
    "\n",
    "A = np.array([[3, 1, -1],\n",
    "              [2, 4, 1],\n",
    "              [1, -1, 3]])\n",
    "\n",
    "b = np.array([[4], \n",
    "              [10], \n",
    "              [5]])"
   ]
  },
  {
   "cell_type": "code",
   "execution_count": 5,
   "metadata": {},
   "outputs": [
    {
     "name": "stdout",
     "output_type": "stream",
     "text": [
      "Solution x:\n",
      " [[1.425]\n",
      " [1.375]\n",
      " [1.65 ]]\n",
      "Residual r:\n",
      " [[-4.44089210e-16]\n",
      " [ 1.77635684e-15]\n",
      " [-8.88178420e-16]]\n"
     ]
    }
   ],
   "source": [
    "x = np.linalg.solve(A, b)\n",
    "\n",
    "\n",
    "residual = np.dot(A, x) - b\n",
    "\n",
    "print(\"Solution x:\\n\", x)\n",
    "print(\"Residual r:\\n\", residual)"
   ]
  },
  {
   "cell_type": "code",
   "execution_count": 8,
   "metadata": {},
   "outputs": [
    {
     "name": "stdout",
     "output_type": "stream",
     "text": [
      "Permutation Matrix\n",
      "[[1. 0. 0.]\n",
      " [0. 1. 0.]\n",
      " [0. 0. 1.]]\n",
      "Matrix L\n",
      "[[ 1.          0.          0.        ]\n",
      " [ 0.66666667  1.          0.        ]\n",
      " [ 0.33333333 -0.4         1.        ]]\n",
      "Matrix U\n",
      "[[ 3.          1.         -1.        ]\n",
      " [ 0.          3.33333333  1.66666667]\n",
      " [ 0.          0.          4.        ]]\n",
      "Solution vector\n",
      "[[1.425]\n",
      " [1.375]\n",
      " [1.65 ]]\n",
      "Error vector\n",
      "[[-4.44089210e-16]\n",
      " [ 1.77635684e-15]\n",
      " [-8.88178420e-16]]\n"
     ]
    }
   ],
   "source": [
    "import scipy.linalg\n",
    "P, L, U = scipy.linalg.lu(A)\n",
    "\n",
    "x1 = np.linalg.solve(A,b)\n",
    "err1 = np.dot(A,x1) - b\n",
    "print(\"Permutation Matrix\")\n",
    "print(P)\n",
    "print(\"Matrix L\")\n",
    "print(L)\n",
    "print(\"Matrix U\")\n",
    "print(U)\n",
    "print(\"Solution vector\")\n",
    "print(x1)\n",
    "print(\"Error vector\")\n",
    "print(err1)"
   ]
  },
  {
   "cell_type": "code",
   "execution_count": 9,
   "metadata": {},
   "outputs": [
    {
     "name": "stdout",
     "output_type": "stream",
     "text": [
      "Solution Vector\n",
      "[[1.425]\n",
      " [1.375]\n",
      " [1.65 ]]\n"
     ]
    }
   ],
   "source": [
    "y = np.linalg.lstsq(A,b,rcond=None)[0]\n",
    "print(\"Solution Vector\")\n",
    "print(y)"
   ]
  },
  {
   "cell_type": "code",
   "execution_count": 10,
   "metadata": {},
   "outputs": [
    {
     "name": "stdout",
     "output_type": "stream",
     "text": [
      "Solution vector\n",
      "[[1.425]\n",
      " [1.375]\n",
      " [1.65 ]]\n",
      "Residual vector\n",
      "[[ 0.0000000e+00]\n",
      " [ 0.0000000e+00]\n",
      " [-8.8817842e-16]]\n",
      "Error vector\n",
      "[[ 2.22044605e-16]\n",
      " [-2.22044605e-16]\n",
      " [ 0.00000000e+00]]\n"
     ]
    }
   ],
   "source": [
    "A_inv = np.linalg.inv(A)\n",
    "x2 = np.dot(A_inv,b)\n",
    "r2 = np.dot(A,x2) - b\n",
    "err2 = x2 - x\n",
    "print(\"Solution vector\")\n",
    "print(x2)\n",
    "print(\"Residual vector\")\n",
    "print(r2)\n",
    "print(\"Error vector\")\n",
    "print(err2)"
   ]
  },
  {
   "cell_type": "code",
   "execution_count": 11,
   "metadata": {},
   "outputs": [
    {
     "name": "stdout",
     "output_type": "stream",
     "text": [
      "[[ 3  1 -1]\n",
      " [ 2  4  1]\n",
      " [ 1 -1  3]]\n",
      "[[ 4]\n",
      " [10]\n",
      " [ 5]]\n",
      "[A:B] vector [[ 3  1 -1  4]\n",
      " [ 2  4  1 10]\n",
      " [ 1 -1  3  5]]\n",
      "\n",
      "Solution vector x3 (from RREF):\n",
      "[1.425 1.375 1.65 ]\n",
      "\n",
      "Residual vector r3 (from RREF):\n",
      "[[-8.88178420e-16  6.00000000e+00  1.00000000e+00]\n",
      " [-6.00000000e+00  1.77635684e-15 -5.00000000e+00]\n",
      " [-1.00000000e+00  5.00000000e+00  0.00000000e+00]]\n",
      "\n",
      "Error vector err3 (difference between x and x3):\n",
      "[[ 0.00000000e+00  5.00000000e-02 -2.25000000e-01]\n",
      " [-5.00000000e-02  0.00000000e+00 -2.75000000e-01]\n",
      " [ 2.25000000e-01  2.75000000e-01 -2.22044605e-16]]\n"
     ]
    }
   ],
   "source": [
    "def rref(A):\n",
    "    \"\"\" \n",
    "    Computes the reduced row echelon form (RREF) of a matrix A.\n",
    "    Parameters:\n",
    "    A : numpy.ndarray\n",
    "    Input matrix of shape (m, n)\n",
    "\n",
    "    Returns:\n",
    "    R : numpy.ndarray\n",
    "    Reduced row echelon form of matrix A\n",
    "    \"\"\" \n",
    "    A = A.astype(float)\n",
    "    m, n = A.shape\n",
    "    load = 0\n",
    "    for r in range(m):\n",
    "        if load >= n:\n",
    "            break\n",
    "        if A[r, load] == 0:\n",
    "            for i in range(r + 1, m):\n",
    "                if A[i, load] != 0:\n",
    "                    A[r, i] = A[i], r\n",
    "                    break\n",
    "        if A[r, load] != 0:\n",
    "            A[r] = A[r] / A[r, load]\n",
    "            for i in range(m):\n",
    "                if i != r:\n",
    "                    A[i] = A[i] - A[i, load] * A[r]\n",
    "            load += 1\n",
    "    return A\n",
    "\n",
    "# Compute reduced row echelon form of [A | b]\n",
    "print(A)\n",
    "print(b)\n",
    "C = np.hstack((A, b.reshape(-1, 1)))\n",
    "print(\"[A:B] vector\", C)\n",
    "R = rref(C)\n",
    "\n",
    "# Extract solution vector x3 from the RREF matrix\n",
    "x3 = R[:, -1]\n",
    "\n",
    "# Calculate residuals\n",
    "r3 = np.dot(A, x3) - b\n",
    "err3 = x - x3\n",
    "\n",
    "print(\"\\nSolution vector x3 (from RREF):\")\n",
    "print(x3)\n",
    "print(\"\\nResidual vector r3 (from RREF):\")\n",
    "print(r3)\n",
    "print(\"\\nError vector err3 (difference between x and x3):\")\n",
    "print(err3)"
   ]
  },
  {
   "cell_type": "code",
   "execution_count": 12,
   "metadata": {},
   "outputs": [
    {
     "name": "stdout",
     "output_type": "stream",
     "text": [
      "\n",
      "Solution vector x1 (using backslash operator):\n",
      "[[1.425]\n",
      " [1.375]\n",
      " [1.65 ]]\n",
      "\n",
      "Solution vector x2 (using matrix inverse):\n",
      "[[1.425]\n",
      " [1.375]\n",
      " [1.65 ]]\n",
      "\n",
      "Solution vector x3 (using reduced row echelon form):\n",
      "[1.425 1.375 1.65 ]\n",
      "\n",
      "Computational times:\n",
      "Backslash operator: 0.005710124969482422 seconds\n",
      "Matrix inverse: 0.0007648468017578125 seconds\n",
      "Reduced row echelon form (rref): 0.00021696090698242188 seconds\n"
     ]
    }
   ],
   "source": [
    "import time\n",
    "import numpy as np\n",
    "\n",
    "# Method 1: Solve using solve operator\n",
    "start_time = time.time()\n",
    "x1 = np.linalg.solve(A, b)\n",
    "end_time = time.time()\n",
    "time_backslash = end_time - start_time\n",
    "\n",
    "# Method 2: Solve using matrix inverse\n",
    "start_time = time.time()\n",
    "x2 = np.linalg.inv(A) @ b\n",
    "end_time = time.time()\n",
    "time_inv = end_time - start_time\n",
    "\n",
    "# Method 3: Solve using reduced row echelon form (rref)\n",
    "start_time = time.time()\n",
    "C = np.hstack((A, b.reshape(-1, 1)))\n",
    "R = rref(C)\n",
    "x3 = R[:, -1]\n",
    "end_time = time.time()\n",
    "time_rref = end_time - start_time\n",
    "\n",
    "# Print the solution vectors and computational times\n",
    "print(\"\\nSolution vector x1 (using backslash operator):\")\n",
    "print(x1)\n",
    "\n",
    "print(\"\\nSolution vector x2 (using matrix inverse):\")\n",
    "print(x2)\n",
    "\n",
    "print(\"\\nSolution vector x3 (using reduced row echelon form):\")\n",
    "print(x3)\n",
    "\n",
    "print(\"\\nComputational times:\")\n",
    "print(f\"Backslash operator: {time_backslash} seconds\")\n",
    "print(f\"Matrix inverse: {time_inv} seconds\")\n",
    "print(f\"Reduced row echelon form (rref): {time_rref} seconds\")"
   ]
  },
  {
   "cell_type": "code",
   "execution_count": null,
   "metadata": {},
   "outputs": [],
   "source": []
  }
 ],
 "metadata": {
  "kernelspec": {
   "display_name": "Python 3",
   "language": "python",
   "name": "python3"
  },
  "language_info": {
   "codemirror_mode": {
    "name": "ipython",
    "version": 3
   },
   "file_extension": ".py",
   "mimetype": "text/x-python",
   "name": "python",
   "nbconvert_exporter": "python",
   "pygments_lexer": "ipython3",
   "version": "3.11.5"
  }
 },
 "nbformat": 4,
 "nbformat_minor": 2
}
